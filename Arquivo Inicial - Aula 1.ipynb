{
 "cells": [
  {
   "cell_type": "markdown",
   "metadata": {},
   "source": [
    "# Automação de Sistemas e Processos com Python\n",
    "\n",
    "### Desafio:\n",
    "\n",
    "Todos os dias, o nosso sistema atualiza as vendas do dia anterior.\n",
    "O seu trabalho diário, como analista, é enviar um e-mail para a diretoria, assim que começar a trabalhar, com o faturamento e a quantidade de produtos vendidos no dia anterior\n",
    "\n",
    "E-mail da diretoria: seugmail+diretoria@gmail.com<br>\n",
    "Local onde o sistema disponibiliza as vendas do dia anterior: https://drive.google.com/drive/folders/149xknr9JvrlEnhNWO49zPcw0PW5icxga?usp=sharing\n",
    "\n",
    "Para resolver isso, vamos usar o pyautogui, uma biblioteca de automação de comandos do mouse e do teclado"
   ]
  },
  {
   "cell_type": "code",
   "execution_count": 14,
   "metadata": {},
   "outputs": [],
   "source": [
    "#intalando dependencias externas do colab\n",
    "# !pip install pyautogui\n",
    "# !pip install pyperclip\n",
    "\n",
    "# !pip install time\n",
    "# !pip install numpy\n",
    "# !pip install pandas\n",
    "# !pip install openpyxl"
   ]
  },
  {
   "cell_type": "markdown",
   "metadata": {},
   "source": [
    "## PASSO 1 - ENTRAR NO SISTEMA E BUSCAR BASE DE DADOS"
   ]
  },
  {
   "cell_type": "code",
   "execution_count": 15,
   "metadata": {},
   "outputs": [],
   "source": [
    "# imports do sistema\n",
    "import pyautogui\n",
    "import pyperclip\n",
    "import time"
   ]
  },
  {
   "cell_type": "code",
   "execution_count": 16,
   "metadata": {},
   "outputs": [],
   "source": [
    "# PASSO 1 - ENTRAR NO SISTEMA E BUSCAR BASE DE DADOS\n",
    "\n",
    "\n",
    "pyautogui.PAUSE = 0.5\n",
    "pyautogui.hotkey(\"Win\",\"r\")\n",
    "pyautogui.write('chrome.exe')\n",
    "pyautogui.press(\"enter\")\n",
    "# pyautogui.hotkey('Alt','Tab')\n",
    "# pyautogui.hotkey(\"Ctrl\",\"t\")\n",
    "pyperclip.copy('https://drive.google.com/drive/folders/149xknr9JvrlEnhNWO49zPcw0PW5icxga?usp=sharing')\n",
    "pyautogui.hotkey('ctrl','v')\n",
    "pyautogui.press('enter')\n"
   ]
  },
  {
   "cell_type": "code",
   "execution_count": 17,
   "metadata": {},
   "outputs": [],
   "source": [
    "# PASSO 2 EXPORTAR BASE DE DADOS\n",
    "\n",
    "time.sleep(3)\n",
    "# pyautogui.doubleClick(x=350, y=267)\n",
    "pyautogui.click(x=350, y=267,clicks=2)\n",
    "time.sleep(2)\n",
    "# pyautogui.rightClick(x=350, y=267)\n",
    "pyautogui.click(x=350, y=267,button='RIGHT')\n",
    "time.sleep(0.5)\n",
    "pyautogui.click(x=506, y=650)\n",
    "time.sleep(10)"
   ]
  },
  {
   "cell_type": "markdown",
   "metadata": {},
   "source": [
    "### Vamos agora ler o arquivo baixado para pegar os indicadores\n",
    "\n",
    "- Faturamento\n",
    "- Quantidade de Produtos"
   ]
  },
  {
   "cell_type": "code",
   "execution_count": 18,
   "metadata": {},
   "outputs": [
    {
     "name": "stdout",
     "output_type": "stream",
     "text": [
      "15227 2917311\n"
     ]
    }
   ],
   "source": [
    "#PASSO 3 CALCULAR INDICADORES (FATURAMENTO E QUANTIDADE DE PRODUTOS VENDIDOS)\n",
    "\n",
    "import pandas as pd\n",
    "import numpy as np\n",
    "\n",
    "path = r'C:\\Users\\gmartins\\Downloads\\Vendas - Dez.xlsx'\n",
    "\n",
    "tabela = pd.read_excel(path)\n",
    "# display(tabela)\n",
    "# df = tabela.filter(np.array(([1, 2], [4, 5, 6])),\n",
    "#                    index=['Sunga Listrado', 'Casaco Listrado'],\n",
    "#                    columns=['Produto', 'Quantidade', 'Valor Final'])\n",
    "# display(df)\n",
    "quantidade = tabela['Quantidade'].sum()\n",
    "faturamento = tabela['Valor Final'].sum()\n",
    "print(quantidade,faturamento)"
   ]
  },
  {
   "cell_type": "markdown",
   "metadata": {},
   "source": [
    "### Vamos agora enviar um e-mail pelo gmail"
   ]
  },
  {
   "cell_type": "code",
   "execution_count": 19,
   "metadata": {},
   "outputs": [],
   "source": [
    "#ABRIR GMAIL\n",
    "\n",
    "pyautogui.hotkey(\"Ctrl\",\"t\")\n",
    "pyperclip.copy('https://mail.google.com/mail/u/0/?zx=fj01dm2axo7z#inbox')\n",
    "pyautogui.hotkey('ctrl','v')\n",
    "pyautogui.press('enter')\n",
    "time.sleep(5)\n",
    "\n",
    "#CLICAR EM ESCREVER\n",
    "pyautogui.click(x=60, y=182)\n",
    "time.sleep(3)\n",
    "\n",
    "#COLOCAR DADOS DO EMAIL\n",
    "pyautogui.write('guilherme3394@gmail.com')\n",
    "pyautogui.press('tab',presses=2)\n",
    "pyautogui.write('Quantidade de Vendas e Faturamento')\n",
    "pyautogui.press('tab')\n",
    "texto = f\"\"\"\n",
    "Prezados\n",
    "Quantidade de Vendas e Faturamento!\n",
    "Vendas: R$ {faturamento:,.2f}\n",
    "Segue as vendas em quantidade: {quantidade:,}\n",
    "\"\"\"\n",
    "pyautogui.write(texto)\n",
    "pyautogui.hotkey('ctrl','enter')"
   ]
  },
  {
   "cell_type": "markdown",
   "metadata": {},
   "source": [
    "#### Use esse código para descobrir qual a posição de um item que queira clicar\n",
    "\n",
    "- Lembre-se: a posição na sua tela é diferente da posição na minha tela"
   ]
  },
  {
   "cell_type": "code",
   "execution_count": 20,
   "metadata": {},
   "outputs": [],
   "source": [
    "# time.sleep(5)\n",
    "# pyautogui.position()"
   ]
  }
 ],
 "metadata": {
  "kernelspec": {
   "display_name": "Python 3",
   "language": "python",
   "name": "python3"
  },
  "language_info": {
   "codemirror_mode": {
    "name": "ipython",
    "version": 3
   },
   "file_extension": ".py",
   "mimetype": "text/x-python",
   "name": "python",
   "nbconvert_exporter": "python",
   "pygments_lexer": "ipython3",
   "version": "3.10.1"
  }
 },
 "nbformat": 4,
 "nbformat_minor": 4
}
